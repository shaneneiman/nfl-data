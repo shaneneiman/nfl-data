{
 "cells": [
  {
   "cell_type": "code",
   "execution_count": 3,
   "metadata": {},
   "outputs": [],
   "source": [
    "import pandas as pd\n",
    "import matplotlib.pyplot as plt\n",
    "import numpy as np\n",
    "from scipy import stats\n",
    "from sklearn.linear_model import LinearRegression\n",
    "from sklearn.metrics import r2_score\n",
    "import statsmodels.api as sm\n",
    "from utility import pval_pearson_coef, print_column_names, print_shape, check_null_columns"
   ]
  },
  {
   "cell_type": "code",
   "execution_count": 4,
   "metadata": {},
   "outputs": [
    {
     "name": "stdout",
     "output_type": "stream",
     "text": [
      "(986022, 19)\n",
      "(1231793, 19)\n",
      "(1168345, 19)\n",
      "(19239, 27)\n",
      "(1303, 7)\n"
     ]
    }
   ],
   "source": [
    "# Read CSV Files\n",
    "plays_df = pd.read_csv(\"datafiles/plays.csv\")\n",
    "players_df = pd.read_csv(\"datafiles/players.csv\")\n",
    "week1_df = pd.read_csv(\"datafiles/week1.csv\")\n",
    "week2_df = pd.read_csv(\"datafiles/week2.csv\")\n",
    "week3_df = pd.read_csv(\"datafiles/week3.csv\")\n",
    "\n",
    "print_shape([week1_df, week2_df, week3_df, plays_df, players_df])"
   ]
  },
  {
   "cell_type": "code",
   "execution_count": 5,
   "metadata": {},
   "outputs": [
    {
     "name": "stdout",
     "output_type": "stream",
     "text": [
      "(5195609, 45)\n",
      "(6845459, 45)\n",
      "(6562700, 45)\n"
     ]
    }
   ],
   "source": [
    "# merge play data with weekly data\n",
    "week1plays_df = week1_df.merge(plays_df, on=\"playId\", how=\"inner\")\n",
    "week2plays_df = week2_df.merge(plays_df, on=\"playId\", how=\"inner\")\n",
    "week3plays_df = week3_df.merge(plays_df, on=\"playId\", how=\"inner\")\n",
    "\n",
    "print_shape([week1plays_df, week2plays_df, week3plays_df])"
   ]
  },
  {
   "cell_type": "code",
   "execution_count": 6,
   "metadata": {},
   "outputs": [],
   "source": [
    "# Concat the dataframes\n",
    "merged_df = pd.concat([week1plays_df, week2plays_df, week3plays_df])"
   ]
  },
  {
   "cell_type": "code",
   "execution_count": 7,
   "metadata": {},
   "outputs": [
    {
     "name": "stdout",
     "output_type": "stream",
     "text": [
      "time\n",
      "x\n",
      "y\n",
      "s\n",
      "a\n",
      "dis\n",
      "o\n",
      "dir\n",
      "event\n",
      "nflId\n",
      "displayName\n",
      "jerseyNumber\n",
      "position\n",
      "frameId\n",
      "team\n",
      "gameId_x\n",
      "playId\n",
      "playDirection\n",
      "route\n",
      "gameId_y\n",
      "playDescription\n",
      "quarter\n",
      "down\n",
      "yardsToGo\n",
      "possessionTeam\n",
      "playType\n",
      "yardlineSide\n",
      "yardlineNumber\n",
      "offenseFormation\n",
      "personnelO\n",
      "defendersInTheBox\n",
      "numberOfPassRushers\n",
      "personnelD\n",
      "typeDropback\n",
      "preSnapVisitorScore\n",
      "preSnapHomeScore\n",
      "gameClock\n",
      "absoluteYardlineNumber\n",
      "penaltyCodes\n",
      "penaltyJerseyNumbers\n",
      "passResult\n",
      "offensePlayResult\n",
      "playResult\n",
      "epa\n",
      "isDefensivePI\n"
     ]
    }
   ],
   "source": [
    "print_column_names(merged_df)"
   ]
  },
  {
   "cell_type": "code",
   "execution_count": 8,
   "metadata": {},
   "outputs": [
    {
     "name": "stdout",
     "output_type": "stream",
     "text": [
      "                             time      x      y   dis  yardsToGo  \\\n",
      "0        2018-09-07T01:07:14.599Z  91.73  26.67  0.02         15   \n",
      "1        2018-09-07T01:07:14.599Z  91.73  26.67  0.02          8   \n",
      "2        2018-09-07T01:07:14.599Z  91.73  26.67  0.02          4   \n",
      "3        2018-09-07T01:07:14.599Z  91.73  26.67  0.02          5   \n",
      "4        2018-09-07T01:07:14.599Z  91.73  26.67  0.02         10   \n",
      "...                           ...    ...    ...   ...        ...   \n",
      "6562695  2018-09-25T03:28:10.099Z  60.18  30.25  0.44         10   \n",
      "6562696  2018-09-25T03:28:10.099Z  60.18  30.25  0.44         10   \n",
      "6562697  2018-09-25T03:28:10.099Z  60.18  30.25  0.44         10   \n",
      "6562698  2018-09-25T03:28:10.099Z  60.18  30.25  0.44         14   \n",
      "6562699  2018-09-25T03:28:10.099Z  60.18  30.25  0.44         19   \n",
      "\n",
      "         defendersInTheBox  numberOfPassRushers passResult  playResult  \n",
      "0                      7.0                  4.0          C          10  \n",
      "1                      7.0                  2.0          C          14  \n",
      "2                      6.0                  2.0          I           0  \n",
      "3                      7.0                  5.0          C           7  \n",
      "4                      7.0                  3.0          S         -10  \n",
      "...                    ...                  ...        ...         ...  \n",
      "6562695                6.0                  4.0          C           7  \n",
      "6562696                7.0                  5.0          C          18  \n",
      "6562697                6.0                  0.0          I           0  \n",
      "6562698                6.0                  4.0          C          -3  \n",
      "6562699                6.0                  3.0          I           0  \n",
      "\n",
      "[18603768 rows x 9 columns]\n"
     ]
    }
   ],
   "source": [
    "df = merged_df[[\"time\", \"x\", \"y\", \"dis\", \"yardsToGo\", \"defendersInTheBox\", \"numberOfPassRushers\", \"passResult\", \"playResult\"]]\n",
    "check_null_columns([df])"
   ]
  },
  {
   "cell_type": "code",
   "execution_count": 9,
   "metadata": {},
   "outputs": [
    {
     "name": "stdout",
     "output_type": "stream",
     "text": [
      "                     x positive gain  y positive gain  dis positive gain  \\\n",
      "x                           1.000000        -0.007557          -0.005039   \n",
      "y                          -0.007557         1.000000          -0.000061   \n",
      "dis                        -0.005039        -0.000061           1.000000   \n",
      "yardsToGo                   0.006840         0.002469           0.000627   \n",
      "defendersInTheBox          -0.010030        -0.000299           0.005274   \n",
      "numberOfPassRushers         0.002123        -0.002020           0.006509   \n",
      "playResult                 -0.000077         0.003380           0.019290   \n",
      "\n",
      "                     yardsToGo positive gain  defendersInTheBox positive gain  \\\n",
      "x                                   0.006840                        -0.010030   \n",
      "y                                   0.002469                        -0.000299   \n",
      "dis                                 0.000627                         0.005274   \n",
      "yardsToGo                           1.000000                        -0.186164   \n",
      "defendersInTheBox                  -0.186164                         1.000000   \n",
      "numberOfPassRushers                -0.089107                         0.220963   \n",
      "playResult                          0.043001                         0.039451   \n",
      "\n",
      "                     numberOfPassRushers positive gain  \\\n",
      "x                                             0.002123   \n",
      "y                                            -0.002020   \n",
      "dis                                           0.006509   \n",
      "yardsToGo                                    -0.089107   \n",
      "defendersInTheBox                             0.220963   \n",
      "numberOfPassRushers                           1.000000   \n",
      "playResult                                    0.104745   \n",
      "\n",
      "                     playResult positive gain  \n",
      "x                                   -0.000077  \n",
      "y                                    0.003380  \n",
      "dis                                  0.019290  \n",
      "yardsToGo                            0.043001  \n",
      "defendersInTheBox                    0.039451  \n",
      "numberOfPassRushers                  0.104745  \n",
      "playResult                           1.000000  \n",
      "                     x negative gain  y negative gain  dis negative gain  \\\n",
      "x                           1.000000        -0.012210          -0.001936   \n",
      "y                          -0.012210         1.000000           0.009807   \n",
      "dis                        -0.001936         0.009807           1.000000   \n",
      "yardsToGo                   0.015326         0.007527           0.001644   \n",
      "defendersInTheBox           0.026256         0.002064          -0.004713   \n",
      "numberOfPassRushers         0.005154        -0.000547           0.001976   \n",
      "playResult                  0.023903        -0.015104          -0.007038   \n",
      "\n",
      "                     yardsToGo negative gain  defendersInTheBox negative gain  \\\n",
      "x                                   0.015326                         0.026256   \n",
      "y                                   0.007527                         0.002064   \n",
      "dis                                 0.001644                        -0.004713   \n",
      "yardsToGo                           1.000000                        -0.174490   \n",
      "defendersInTheBox                  -0.174490                         1.000000   \n",
      "numberOfPassRushers                -0.138191                         0.255272   \n",
      "playResult                          0.054095                        -0.000449   \n",
      "\n",
      "                     numberOfPassRushers negative gain  \\\n",
      "x                                             0.005154   \n",
      "y                                            -0.000547   \n",
      "dis                                           0.001976   \n",
      "yardsToGo                                    -0.138191   \n",
      "defendersInTheBox                             0.255272   \n",
      "numberOfPassRushers                           1.000000   \n",
      "playResult                                   -0.029156   \n",
      "\n",
      "                     playResult negative gain  \n",
      "x                                    0.023903  \n",
      "y                                   -0.015104  \n",
      "dis                                 -0.007038  \n",
      "yardsToGo                            0.054095  \n",
      "defendersInTheBox                   -0.000449  \n",
      "numberOfPassRushers                 -0.029156  \n",
      "playResult                           1.000000  \n",
      "                     x zero gain  y zero gain  dis zero gain  \\\n",
      "x                       1.000000    -0.007355      -0.001429   \n",
      "y                      -0.007355     1.000000       0.000173   \n",
      "dis                    -0.001429     0.000173       1.000000   \n",
      "yardsToGo               0.004614    -0.000483       0.001569   \n",
      "defendersInTheBox       0.009464     0.001693       0.005868   \n",
      "numberOfPassRushers     0.019335     0.002507       0.002284   \n",
      "playResult                   NaN          NaN            NaN   \n",
      "\n",
      "                     yardsToGo zero gain  defendersInTheBox zero gain  \\\n",
      "x                               0.004614                     0.009464   \n",
      "y                              -0.000483                     0.001693   \n",
      "dis                             0.001569                     0.005868   \n",
      "yardsToGo                       1.000000                    -0.166635   \n",
      "defendersInTheBox              -0.166635                     1.000000   \n",
      "numberOfPassRushers            -0.057259                     0.271000   \n",
      "playResult                           NaN                          NaN   \n",
      "\n",
      "                     numberOfPassRushers zero gain  playResult zero gain  \n",
      "x                                         0.019335                   NaN  \n",
      "y                                         0.002507                   NaN  \n",
      "dis                                       0.002284                   NaN  \n",
      "yardsToGo                                -0.057259                   NaN  \n",
      "defendersInTheBox                         0.271000                   NaN  \n",
      "numberOfPassRushers                       1.000000                   NaN  \n",
      "playResult                                     NaN                   NaN  \n"
     ]
    }
   ],
   "source": [
    "# Groups correlations Results based on playResult in yards\n",
    "\n",
    "stats_positive_gain = df[df[\"playResult\"] > 0].corr()\n",
    "stats_positive_gain.rename(columns=lambda x: x + \" positive gain\", inplace=True)\n",
    "\n",
    "stats_negative_gain = df[df[\"playResult\"] < 0].corr()\n",
    "stats_negative_gain.rename(columns=lambda x: x + \" negative gain\", inplace=True)\n",
    "\n",
    "stats_zero_gain = df[df[\"playResult\"] == 0].corr()\n",
    "stats_zero_gain.rename(columns=lambda x: x + \" zero gain\", inplace=True)\n",
    "\n",
    "for corr_results in [stats_positive_gain, stats_negative_gain, stats_zero_gain]:\n",
    "    print(corr_results)"
   ]
  },
  {
   "cell_type": "code",
   "execution_count": 10,
   "metadata": {},
   "outputs": [
    {
     "name": "stdout",
     "output_type": "stream",
     "text": [
      "                     x Completion  y Completion  dis Completion  \\\n",
      "x                        1.000000     -0.007794       -0.004620   \n",
      "y                       -0.007794      1.000000        0.001567   \n",
      "dis                     -0.004620      0.001567        1.000000   \n",
      "yardsToGo                0.008589      0.003845        0.000614   \n",
      "defendersInTheBox       -0.011297      0.000555        0.005993   \n",
      "numberOfPassRushers      0.001518     -0.002804        0.005808   \n",
      "playResult              -0.002154      0.000749        0.017961   \n",
      "\n",
      "                     yardsToGo Completion  defendersInTheBox Completion  \\\n",
      "x                                0.008589                     -0.011297   \n",
      "y                                0.003845                      0.000555   \n",
      "dis                              0.000614                      0.005993   \n",
      "yardsToGo                        1.000000                     -0.189031   \n",
      "defendersInTheBox               -0.189031                      1.000000   \n",
      "numberOfPassRushers             -0.096324                      0.221069   \n",
      "playResult                       0.031228                      0.040695   \n",
      "\n",
      "                     numberOfPassRushers Completion  playResult Completion  \n",
      "x                                          0.001518              -0.002154  \n",
      "y                                         -0.002804               0.000749  \n",
      "dis                                        0.005808               0.017961  \n",
      "yardsToGo                                 -0.096324               0.031228  \n",
      "defendersInTheBox                          0.221069               0.040695  \n",
      "numberOfPassRushers                        1.000000               0.103209  \n",
      "playResult                                 0.103209               1.000000  \n",
      "                     x Incompletion  y Incompletion  dis Incompletion  \\\n",
      "x                          1.000000       -0.008688         -0.003542   \n",
      "y                         -0.008688        1.000000         -0.001189   \n",
      "dis                       -0.003542       -0.001189          1.000000   \n",
      "yardsToGo                  0.008841       -0.002252          0.001273   \n",
      "defendersInTheBox          0.014902       -0.002055          0.003911   \n",
      "numberOfPassRushers        0.021555        0.003422          0.004123   \n",
      "playResult                -0.012875       -0.004975          0.004149   \n",
      "\n",
      "                     yardsToGo Incompletion  defendersInTheBox Incompletion  \\\n",
      "x                                  0.008841                        0.014902   \n",
      "y                                 -0.002252                       -0.002055   \n",
      "dis                                0.001273                        0.003911   \n",
      "yardsToGo                          1.000000                       -0.145365   \n",
      "defendersInTheBox                 -0.145365                        1.000000   \n",
      "numberOfPassRushers               -0.042017                        0.269306   \n",
      "playResult                         0.032958                        0.006065   \n",
      "\n",
      "                     numberOfPassRushers Incompletion  playResult Incompletion  \n",
      "x                                            0.021555                -0.012875  \n",
      "y                                            0.003422                -0.004975  \n",
      "dis                                          0.004123                 0.004149  \n",
      "yardsToGo                                   -0.042017                 0.032958  \n",
      "defendersInTheBox                            0.269306                 0.006065  \n",
      "numberOfPassRushers                          1.000000                 0.002810  \n",
      "playResult                                   0.002810                 1.000000  \n",
      "                       x Sack    y Sack  dis Sack  yardsToGo Sack  \\\n",
      "x                    1.000000 -0.005997  0.000055       -0.012312   \n",
      "y                   -0.005997  1.000000  0.003135        0.004457   \n",
      "dis                  0.000055  0.003135  1.000000        0.003900   \n",
      "yardsToGo           -0.012312  0.004457  0.003900        1.000000   \n",
      "defendersInTheBox    0.040395  0.007665 -0.006309       -0.176964   \n",
      "numberOfPassRushers  0.001018  0.005470  0.002203       -0.093697   \n",
      "playResult           0.061915 -0.004971 -0.003049        0.026888   \n",
      "\n",
      "                     defendersInTheBox Sack  numberOfPassRushers Sack  \\\n",
      "x                                  0.040395                  0.001018   \n",
      "y                                  0.007665                  0.005470   \n",
      "dis                               -0.006309                  0.002203   \n",
      "yardsToGo                         -0.176964                 -0.093697   \n",
      "defendersInTheBox                  1.000000                  0.265157   \n",
      "numberOfPassRushers                0.265157                  1.000000   \n",
      "playResult                         0.011206                  0.029215   \n",
      "\n",
      "                     playResult Sack  \n",
      "x                           0.061915  \n",
      "y                          -0.004971  \n",
      "dis                        -0.003049  \n",
      "yardsToGo                   0.026888  \n",
      "defendersInTheBox           0.011206  \n",
      "numberOfPassRushers         0.029215  \n",
      "playResult                  1.000000  \n",
      "                     x Interception  y Interception  dis Interception  \\\n",
      "x                          1.000000       -0.004227          0.013157   \n",
      "y                         -0.004227        1.000000          0.001271   \n",
      "dis                        0.013157        0.001271          1.000000   \n",
      "yardsToGo                 -0.002275       -0.005740         -0.002827   \n",
      "defendersInTheBox         -0.054808        0.017029          0.013939   \n",
      "numberOfPassRushers        0.010005        0.004679         -0.007877   \n",
      "playResult                      NaN             NaN               NaN   \n",
      "\n",
      "                     yardsToGo Interception  defendersInTheBox Interception  \\\n",
      "x                                 -0.002275                       -0.054808   \n",
      "y                                 -0.005740                        0.017029   \n",
      "dis                               -0.002827                        0.013939   \n",
      "yardsToGo                          1.000000                       -0.295381   \n",
      "defendersInTheBox                 -0.295381                        1.000000   \n",
      "numberOfPassRushers               -0.134748                        0.329877   \n",
      "playResult                              NaN                             NaN   \n",
      "\n",
      "                     numberOfPassRushers Interception  playResult Interception  \n",
      "x                                            0.010005                      NaN  \n",
      "y                                            0.004679                      NaN  \n",
      "dis                                         -0.007877                      NaN  \n",
      "yardsToGo                                   -0.134748                      NaN  \n",
      "defendersInTheBox                            0.329877                      NaN  \n",
      "numberOfPassRushers                          1.000000                      NaN  \n",
      "playResult                                        NaN                      NaN  \n"
     ]
    }
   ],
   "source": [
    "# Groups correlations Results based on passResult\n",
    "\n",
    "stats_completion = df[df[\"passResult\"] == \"C\"].corr()\n",
    "stats_completion.rename(columns=lambda x: x + \" Completion\", inplace=True)\n",
    "\n",
    "stats_incompletion = df[df[\"passResult\"] == \"I\"].corr()\n",
    "stats_incompletion.rename(columns=lambda x: x + \" Incompletion\", inplace=True)\n",
    "\n",
    "stats_sack = df[df[\"passResult\"] == \"S\"].corr()\n",
    "stats_sack.rename(columns=lambda x: x + \" Sack\", inplace=True)\n",
    "\n",
    "stats_interception = df[df[\"passResult\"] == \"IN\"].corr()\n",
    "stats_interception.rename(columns=lambda x: x + \" Interception\", inplace=True)\n",
    "\n",
    "for corr_results in [stats_completion, stats_incompletion, stats_sack, stats_interception]:\n",
    "    print(corr_results)"
   ]
  },
  {
   "cell_type": "code",
   "execution_count": 11,
   "metadata": {},
   "outputs": [
    {
     "data": {
      "text/plain": [
       "Text(0, 0.5, 'Frequency')"
      ]
     },
     "execution_count": 11,
     "metadata": {},
     "output_type": "execute_result"
    },
    {
     "data": {
      "image/png": "[encoded data removed]",
      "text/plain": [
       "<Figure size 720x504 with 1 Axes>"
      ]
     },
     "metadata": {},
     "output_type": "display_data"
    }
   ],
   "source": [
    "# Histograms\n",
    "\n",
    "plt.style.use(\"ggplot\")\n",
    "df.x.plot(kind=\"hist\", color=\"blue\", edgecolor=\"black\", figsize=(10,7))\n",
    "plt.title(\"Distribution of X\", size=24)\n",
    "plt.xlabel(\"X Coordinates\", size=18)\n",
    "plt.ylabel(\"Frequency\", size=18)\n",
    "\n",
    "plt.style.use(\"ggplot\")\n",
    "df.y.plot(kind=\"hist\", color=\"blue\", edgecolor=\"black\", figsize=(10,7))\n",
    "plt.title(\"Distribution of Y\", size=24)\n",
    "plt.xlabel(\"Y Coordinate\", size=18)\n",
    "plt.ylabel(\"Frequency\", size=18)\n",
    "\n",
    "plt.style.use(\"ggplot\")\n",
    "df.playResult.plot(kind=\"hist\", color=\"blue\", edgecolor=\"black\", figsize=(10,7))\n",
    "plt.title(\"Distribution of playResult\", size=24)\n",
    "plt.xlabel(\"playResult in Yards\", size=18)\n",
    "plt.ylabel(\"Frequency\", size=18)"
   ]
  },
  {
   "cell_type": "code",
   "execution_count": 12,
   "metadata": {
    "scrolled": true
   },
   "outputs": [
    {
     "data": {
      "text/plain": [
       "Text(0, 0.5, 'playResult')"
      ]
     },
     "execution_count": 12,
     "metadata": {},
     "output_type": "execute_result"
    },
    {
     "data": {
      "image/png": "[encoded data removed]",
      "text/plain": [
       "<Figure size 720x504 with 1 Axes>"
      ]
     },
     "metadata": {},
     "output_type": "display_data"
    }
   ],
   "source": [
    "# Scatter plot of passResults\n",
    "\n",
    "df.plot(kind=\"scatter\", x=\"x\", y=\"playResult\", color=\"blue\", figsize=(10,7))\n",
    "plt.title(\"Relationship between\", size=24)\n",
    "plt.xlabel(\"x\", size=18)\n",
    "plt.ylabel(\"playResult\", size=18)"
   ]
  },
  {
   "cell_type": "code",
   "execution_count": 13,
   "metadata": {
    "scrolled": true
   },
   "outputs": [
    {
     "name": "stdout",
     "output_type": "stream",
     "text": [
      "(18603768, 9)\n",
      "(17915826, 9)\n"
     ]
    }
   ],
   "source": [
    "df2 = df.dropna(axis=0, how=\"any\", inplace=False)\n",
    "print_shape([df, df2])"
   ]
  },
  {
   "cell_type": "code",
   "execution_count": 14,
   "metadata": {},
   "outputs": [
    {
     "name": "stdout",
     "output_type": "stream",
     "text": [
      "x\n",
      "Pearson Correlation cofficient for x is 0.003475562733195546\n",
      "P-Value for x is 5.471945411156014e-49\n",
      "Null can be rejected!!\n",
      "\n",
      "\n",
      "y\n",
      "Pearson Correlation cofficient for y is 0.0004452828270258772\n",
      "P-Value for y is 0.059463240408470584\n",
      "Null cannot be rejected\n",
      "\n",
      "\n",
      "dis\n",
      "Pearson Correlation cofficient for dis is 0.011249184184255797\n",
      "P-Value for dis is 0.0\n",
      "Null can be rejected!!\n",
      "\n",
      "\n",
      "defendersInTheBox\n",
      "Pearson Correlation cofficient for defendersInTheBox is 0.019643657344585782\n",
      "P-Value for defendersInTheBox is 0.0\n",
      "Null can be rejected!!\n",
      "\n",
      "\n",
      "numberOfPassRushers\n",
      "Pearson Correlation cofficient for numberOfPassRushers is 0.004300783945746349\n",
      "P-Value for numberOfPassRushers is 4.792951317374887e-74\n",
      "Null can be rejected!!\n",
      "\n",
      "\n",
      "yardsToGo\n",
      "Pearson Correlation cofficient for yardsToGo is 0.03865196411568328\n",
      "P-Value for yardsToGo is 0.0\n",
      "Null can be rejected!!\n",
      "\n",
      "\n"
     ]
    }
   ],
   "source": [
    "pairs_list = [(df2.x, df2.playResult), (df2.y, df2.playResult), (df2.dis, df2.playResult), (df2.defendersInTheBox, df2.playResult), (df2.numberOfPassRushers, df2.playResult), (df2.yardsToGo, df2.playResult)]\n",
    "\n",
    "for pair in pairs_list:\n",
    "    print(pair[0].name)\n",
    "    pval_pearson_coef(pair[0], pair[1])\n",
    "    print(\"\\n\")"
   ]
  },
  {
   "cell_type": "code",
   "execution_count": 15,
   "metadata": {},
   "outputs": [
    {
     "name": "stdout",
     "output_type": "stream",
     "text": [
      "                            OLS Regression Results                            \n",
      "==============================================================================\n",
      "Dep. Variable:             playResult   R-squared:                       0.002\n",
      "Model:                            OLS   Adj. R-squared:                  0.002\n",
      "Method:                 Least Squares   F-statistic:                     7072.\n",
      "Date:                Sun, 15 Nov 2020   Prob (F-statistic):               0.00\n",
      "Time:                        12:41:35   Log-Likelihood:            -6.8223e+07\n",
      "No. Observations:            17915826   AIC:                         1.364e+08\n",
      "Df Residuals:                17915819   BIC:                         1.364e+08\n",
      "Df Model:                           6                                         \n",
      "Covariance Type:            nonrobust                                         \n",
      "==============================================================================\n",
      "                 coef    std err          t      P>|t|      [0.025      0.975]\n",
      "------------------------------------------------------------------------------\n",
      "const          3.4998      0.022    157.134      0.000       3.456       3.543\n",
      "x1             0.0014      0.000     13.513      0.000       0.001       0.002\n",
      "x2             0.0003      0.000      1.284      0.199      -0.000       0.001\n",
      "x3             0.3938      0.008     46.848      0.000       0.377       0.410\n",
      "x4             0.2951      0.003    110.204      0.000       0.290       0.300\n",
      "x5             0.0175      0.003      5.741      0.000       0.012       0.023\n",
      "x6             0.1202      0.001    181.758      0.000       0.119       0.121\n",
      "==============================================================================\n",
      "Omnibus:                  7470088.009   Durbin-Watson:                   1.980\n",
      "Prob(Omnibus):                  0.000   Jarque-Bera (JB):         65438192.388\n",
      "Skew:                           1.782   Prob(JB):                         0.00\n",
      "Kurtosis:                      11.658   Cond. No.                         610.\n",
      "==============================================================================\n",
      "\n",
      "Notes:\n",
      "[1] Standard Errors assume that the covariance matrix of the errors is correctly specified.\n"
     ]
    }
   ],
   "source": [
    "# Multiple Linear Regression\n",
    "X = np.column_stack((df2[\"x\"], df2[\"y\"], df2[\"dis\"], df2[\"defendersInTheBox\"], df2[\"numberOfPassRushers\"], df2[\"yardsToGo\"]))\n",
    "y = df2[\"playResult\"]\n",
    "\n",
    "X2 = sm.add_constant(X)\n",
    "est = sm.OLS(y, X2)\n",
    "est2 = est.fit()\n",
    "print(est2.summary())"
   ]
  }
 ],
 "metadata": {
  "kernelspec": {
   "display_name": "Python 3",
   "language": "python",
   "name": "python3"
  },
  "language_info": {
   "codemirror_mode": {
    "name": "ipython",
    "version": 3
   },
   "file_extension": ".py",
   "mimetype": "text/x-python",
   "name": "python",
   "nbconvert_exporter": "python",
   "pygments_lexer": "ipython3",
   "version": "3.8.6"
  }
 },
 "nbformat": 4,
 "nbformat_minor": 4
}
